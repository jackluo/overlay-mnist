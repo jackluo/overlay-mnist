{
 "cells": [
  {
   "cell_type": "code",
   "execution_count": 27,
   "metadata": {},
   "outputs": [],
   "source": [
    "import cv2\n",
    "import numpy as np\n",
    "import matplotlib.pyplot as plt"
   ]
  },
  {
   "cell_type": "code",
   "execution_count": 28,
   "metadata": {},
   "outputs": [],
   "source": [
    "x = np.loadtxt(\"../data/test_x.csv\", delimiter=\",\")\n",
    "x = x.reshape(-1, 64, 64)\n",
    "# y = np.loadtxt(\"../data/train_y.csv\", delimiter=\",\") "
   ]
  },
  {
   "cell_type": "code",
   "execution_count": 29,
   "metadata": {},
   "outputs": [],
   "source": [
    "binary_pics = ((x > 250) + 0) * 250"
   ]
  },
  {
   "cell_type": "code",
   "execution_count": 30,
   "metadata": {},
   "outputs": [],
   "source": [
    "binary_pics = binary_pics.astype(np.uint8)"
   ]
  },
  {
   "cell_type": "code",
   "execution_count": 31,
   "metadata": {},
   "outputs": [],
   "source": [
    "def count_zeros(e):\n",
    "    count = 0\n",
    "    for elem in e:\n",
    "        if elem == 0.0 or elem == 0:\n",
    "            count += 1\n",
    "    return count\n",
    "        \n",
    "# print(binary_pics[10153])\n",
    "# print([count_zeros(binary_pics[x]) for x in range(8000, 8100)])"
   ]
  },
  {
   "cell_type": "code",
   "execution_count": null,
   "metadata": {},
   "outputs": [],
   "source": []
  },
  {
   "cell_type": "code",
   "execution_count": 32,
   "metadata": {},
   "outputs": [],
   "source": [
    "def biggest_bounding_box(img, isSquare=False):\n",
    "    ret,thresh = cv2.threshold(img,127,255,0)\n",
    "    img, contours, h = cv2.findContours(thresh,cv2.RETR_TREE,cv2.CHAIN_APPROX_SIMPLE)\n",
    "    xs, ys, ws, hs = [], [], [], []\n",
    "    areas = []\n",
    "    for c in contours:\n",
    "        x, y, w, h = cv2.boundingRect(c)\n",
    "#         print(x, y, w, h)\n",
    "        xs.append(x); ys.append(y); ws.append(w); hs.append(h)\n",
    "        if isSquare:\n",
    "            length = max(w,h)\n",
    "            areas.append(length* length)\n",
    "        else:\n",
    "            areas.append(w*h)\n",
    "    \n",
    "    areas = np.array(areas)\n",
    "    biggest = np.argmax(areas)\n",
    "#     biggests = areas.argsort()[-3:][::-1]\n",
    "    x = xs[biggest]\n",
    "    y = ys[biggest]\n",
    "    w = ws[biggest]\n",
    "    h = hs[biggest]\n",
    "#     print(x, y, w, h)\n",
    "#     plt.imshow(cv2.rectangle(img,(x,y),(x+w,y+h),(100,100,100),1))\n",
    "#     plt.show()\n",
    "    return img[y:y+h, x:x+w]\n",
    "    \n",
    "#     images = []\n",
    "    \n",
    "#     for b in biggests:\n",
    "#         x = xs[b]\n",
    "#         y = ys[b]\n",
    "#         w = ws[b]\n",
    "#         h = hs[b]\n",
    "    #     if isSquare:\n",
    "    #         if w < h:\n",
    "    #             x = x - (int((h - w)/2))\n",
    "    #             length = h\n",
    "    #         else:\n",
    "    #             y = y - (int((w - h)/2))\n",
    "    #             length = w\n",
    "\n",
    "#         images.append(img[y:y+h, x:x+w])\n",
    "# #         plt.imshow(cv2.rectangle(img,(x,y),(x+w,y+h),(100,100,100),1))\n",
    "\n",
    "#     #     else:\n",
    "#     #         plt.imshow(cv2.rectangle(img,(x,y),(x+w,y+h),(100,100,100),1))\n",
    "# #         plt.show()\n",
    "#     return images\n",
    "    \n",
    "    "
   ]
  },
  {
   "cell_type": "code",
   "execution_count": 33,
   "metadata": {},
   "outputs": [],
   "source": [
    "# for i in range(5030,5050):\n",
    "#     biggest_bounding_box(binary_pics[i])\n",
    "# biggest_bounding_box(binary_pics[35742])"
   ]
  },
  {
   "cell_type": "code",
   "execution_count": 34,
   "metadata": {},
   "outputs": [],
   "source": [
    "\n",
    "\n",
    "# three_channel_digits = np.zeros((50000, 64, 64, 3))\n",
    "# for i,p in enumerate(binary_pics):\n",
    "#     extracted_digits = biggest_bounding_box(p)\n",
    "#     print(len(extracted_digits))\n",
    "#     for j,d in enumerate(extracted_digits):\n",
    "#         x, y = np.shape(d)\n",
    "#         x_pos = int(32 - (x/2))\n",
    "#         y_pos = int(32 - (y/2))\n",
    "#         three_channel_digits[i][x_pos: x_pos + x, y_pos: y_pos + y, j] = d"
   ]
  },
  {
   "cell_type": "code",
   "execution_count": 35,
   "metadata": {},
   "outputs": [],
   "source": [
    "# np.save(\"three_channel_digits\", three_channel_digits)"
   ]
  },
  {
   "cell_type": "code",
   "execution_count": 36,
   "metadata": {},
   "outputs": [],
   "source": [
    "# plt.imshow(three_channel_digits[0,:,:,0])"
   ]
  },
  {
   "cell_type": "code",
   "execution_count": 37,
   "metadata": {},
   "outputs": [
    {
     "name": "stdout",
     "output_type": "stream",
     "text": [
      "0\n",
      "2000\n",
      "4000\n",
      "6000\n",
      "8000\n"
     ]
    }
   ],
   "source": [
    "extracted_digits = []\n",
    "for i,p in enumerate(binary_pics):\n",
    "    if i%2000 == 0:\n",
    "        print(i)\n",
    "    \n",
    "    extracted_digits.append(biggest_bounding_box(p))"
   ]
  },
  {
   "cell_type": "code",
   "execution_count": 38,
   "metadata": {},
   "outputs": [],
   "source": [
    "# np.save(\"biggest_digits\", extracted_digits)"
   ]
  },
  {
   "cell_type": "code",
   "execution_count": 39,
   "metadata": {},
   "outputs": [
    {
     "name": "stdout",
     "output_type": "stream",
     "text": [
      "10000\n"
     ]
    }
   ],
   "source": [
    "centered_digits = np.zeros(np.shape(binary_pics))\n",
    "# centered_digits = np.zeros((50000, 64, 64))\n",
    "print(len(extracted_digits))\n"
   ]
  },
  {
   "cell_type": "code",
   "execution_count": 40,
   "metadata": {},
   "outputs": [],
   "source": [
    "for i, d in enumerate(extracted_digits):\n",
    "    x, y = np.shape(d)\n",
    "    x_pos = int(32 - (x/2))\n",
    "    y_pos = int(32 - (y/2))\n",
    "    centered_digits[i][x_pos: x_pos + x, y_pos: y_pos + y] = d"
   ]
  },
  {
   "cell_type": "code",
   "execution_count": 47,
   "metadata": {},
   "outputs": [
    {
     "data": {
      "image/png": "[encoded data removed]",
      "text/plain": [
       "<matplotlib.figure.Figure at 0x1bc8f3d5cf8>"
      ]
     },
     "metadata": {},
     "output_type": "display_data"
    },
    {
     "name": "stdout",
     "output_type": "stream",
     "text": [
      "0.0\n"
     ]
    }
   ],
   "source": [
    "plt.imshow(centered_digits[2245])\n",
    "plt.show()\n",
    "\n",
    "print((centered_digits[4624][30,36]))\n"
   ]
  },
  {
   "cell_type": "code",
   "execution_count": 42,
   "metadata": {},
   "outputs": [],
   "source": [
    "np.save(\"centered_digits_test\", centered_digits)"
   ]
  },
  {
   "cell_type": "code",
   "execution_count": 43,
   "metadata": {},
   "outputs": [],
   "source": [
    "# flattened_digits = centered_digits.reshape(-1,  64*64)\n",
    "# print(flattened_digits.shape)\n",
    "# print([count_zeros(flattened_digits[x]) for x in range(9000,9500)])"
   ]
  },
  {
   "cell_type": "code",
   "execution_count": 44,
   "metadata": {},
   "outputs": [
    {
     "name": "stdout",
     "output_type": "stream",
     "text": [
      "(10000, 64, 64)\n"
     ]
    }
   ],
   "source": [
    "print(np.shape(centered_digits))\n",
    "test = np.array([5,4,2])"
   ]
  },
  {
   "cell_type": "code",
   "execution_count": 45,
   "metadata": {},
   "outputs": [
    {
     "data": {
      "text/plain": [
       "array([0, 1, 2], dtype=int64)"
      ]
     },
     "execution_count": 45,
     "metadata": {},
     "output_type": "execute_result"
    }
   ],
   "source": [
    "test.argsort()[-5:][::-1]"
   ]
  },
  {
   "cell_type": "code",
   "execution_count": null,
   "metadata": {},
   "outputs": [],
   "source": []
  }
 ],
 "metadata": {
  "kernelspec": {
   "display_name": "Python 3",
   "language": "python",
   "name": "python3"
  },
  "language_info": {
   "codemirror_mode": {
    "name": "ipython",
    "version": 3
   },
   "file_extension": ".py",
   "mimetype": "text/x-python",
   "name": "python",
   "nbconvert_exporter": "python",
   "pygments_lexer": "ipython3",
   "version": "3.6.4"
  }
 },
 "nbformat": 4,
 "nbformat_minor": 2
}
