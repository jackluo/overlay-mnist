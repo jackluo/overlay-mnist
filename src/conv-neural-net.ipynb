{
 "cells": [
  {
   "cell_type": "code",
   "execution_count": 91,
   "metadata": {},
   "outputs": [],
   "source": [
    "from keras.models import Sequential\n",
    "from keras.layers import Dense, Activation,Conv2D,MaxPooling2D,Flatten,Dropout\n",
    "from keras.optimizers import SGD\n",
    "from keras.utils.np_utils import to_categorical\n",
    "import numpy as np"
   ]
  },
  {
   "cell_type": "code",
   "execution_count": 146,
   "metadata": {},
   "outputs": [],
   "source": [
    "# x = np.loadtxt(\"train_x.csv\", delimiter=\",\") # load from text \n",
    "y = np.loadtxt(\"train_y.csv\", delimiter=\",\") \n",
    "# x = x.reshape(-1, 64,64, 1) # reshape \n",
    "y = y.reshape(-1, 1) "
   ]
  },
  {
   "cell_type": "code",
   "execution_count": 93,
   "metadata": {},
   "outputs": [],
   "source": [
    "binary_pics = (x > 250) + 0"
   ]
  },
  {
   "cell_type": "code",
   "execution_count": 102,
   "metadata": {
    "collapsed": true
   },
   "outputs": [],
   "source": [
    "train = binary_pics[:35000]"
   ]
  },
  {
   "cell_type": "code",
   "execution_count": 103,
   "metadata": {
    "collapsed": true
   },
   "outputs": [],
   "source": [
    "valid = binary_pics[35000:45000]"
   ]
  },
  {
   "cell_type": "code",
   "execution_count": 140,
   "metadata": {
    "collapsed": true
   },
   "outputs": [],
   "source": [
    "test = binary_pics[45000:]"
   ]
  },
  {
   "cell_type": "code",
   "execution_count": 147,
   "metadata": {
    "collapsed": true
   },
   "outputs": [],
   "source": [
    "y = to_categorical(y)"
   ]
  },
  {
   "cell_type": "code",
   "execution_count": 152,
   "metadata": {
    "collapsed": true
   },
   "outputs": [],
   "source": [
    "model = Sequential()"
   ]
  },
  {
   "cell_type": "code",
   "execution_count": 153,
   "metadata": {},
   "outputs": [],
   "source": [
    "model.add(Conv2D(32, (3,3), activation='relu', data_format='channels_last', input_shape=(64,64,1)))\n",
    "model.add(MaxPooling2D(pool_size=(2,2), strides=(2,2)))\n",
    "model.add(Conv2D(32, (3,3), activation='relu'))\n",
    "model.add(MaxPooling2D(pool_size=(2,2), strides=(2,2)))\n",
    "model.add(Dropout(0.25))\n",
    "model.add(Flatten())\n",
    "model.add(Dense(units=10, activation='softmax'))"
   ]
  },
  {
   "cell_type": "code",
   "execution_count": 154,
   "metadata": {},
   "outputs": [],
   "source": [
    "sgd = SGD(lr=1, decay=1e-6, momentum=0.9, nesterov=True)\n",
    "model.compile(loss='categorical_crossentropy', optimizer='adam', metrics=['accuracy'])"
   ]
  },
  {
   "cell_type": "code",
   "execution_count": 155,
   "metadata": {},
   "outputs": [
    {
     "name": "stdout",
     "output_type": "stream",
     "text": [
      "Train on 35000 samples, validate on 10000 samples\n",
      "Epoch 1/10\n",
      "35000/35000 [==============================] - 106s 3ms/step - loss: 2.1643 - acc: 0.2058 - val_loss: 1.9656 - val_acc: 0.3097\n",
      "Epoch 2/10\n",
      "35000/35000 [==============================] - 104s 3ms/step - loss: 1.8260 - acc: 0.3579 - val_loss: 1.7031 - val_acc: 0.4072\n",
      "Epoch 3/10\n",
      "35000/35000 [==============================] - 107s 3ms/step - loss: 1.6395 - acc: 0.4314 - val_loss: 1.6003 - val_acc: 0.4494\n",
      "Epoch 4/10\n",
      "35000/35000 [==============================] - 108s 3ms/step - loss: 1.5455 - acc: 0.4650 - val_loss: 1.5429 - val_acc: 0.4721\n",
      "Epoch 5/10\n",
      "35000/35000 [==============================] - 107s 3ms/step - loss: 1.4884 - acc: 0.4890 - val_loss: 1.5221 - val_acc: 0.4790\n",
      "Epoch 6/10\n",
      "35000/35000 [==============================] - 107s 3ms/step - loss: 1.4429 - acc: 0.5029 - val_loss: 1.4937 - val_acc: 0.4850\n",
      "Epoch 7/10\n",
      "35000/35000 [==============================] - 107s 3ms/step - loss: 1.4111 - acc: 0.5161 - val_loss: 1.4838 - val_acc: 0.4945\n",
      "Epoch 8/10\n",
      "35000/35000 [==============================] - 100s 3ms/step - loss: 1.3812 - acc: 0.5270 - val_loss: 1.4746 - val_acc: 0.4985\n",
      "Epoch 9/10\n",
      "35000/35000 [==============================] - 98s 3ms/step - loss: 1.3658 - acc: 0.5317 - val_loss: 1.4648 - val_acc: 0.4939\n",
      "Epoch 10/10\n",
      "35000/35000 [==============================] - 96s 3ms/step - loss: 1.3438 - acc: 0.5397 - val_loss: 1.4810 - val_acc: 0.4893\n"
     ]
    },
    {
     "data": {
      "text/plain": [
       "<keras.callbacks.History at 0x17e877ef0>"
      ]
     },
     "execution_count": 155,
     "metadata": {},
     "output_type": "execute_result"
    }
   ],
   "source": [
    "model.fit(train, y[:35000], batch_size=32, epochs=10, validation_data=(valid, y[35000:45000]))"
   ]
  },
  {
   "cell_type": "code",
   "execution_count": 151,
   "metadata": {},
   "outputs": [
    {
     "name": "stdout",
     "output_type": "stream",
     "text": [
      "Train on 35000 samples, validate on 10000 samples\n",
      "Epoch 1/10\n",
      "35000/35000 [==============================] - 51s 1ms/step - loss: 2.1621 - acc: 0.2017 - val_loss: 2.0224 - val_acc: 0.2845\n",
      "Epoch 2/10\n",
      "35000/35000 [==============================] - 51s 1ms/step - loss: 1.8186 - acc: 0.3648 - val_loss: 1.6923 - val_acc: 0.4220\n",
      "Epoch 3/10\n",
      "35000/35000 [==============================] - 51s 1ms/step - loss: 1.5465 - acc: 0.4715 - val_loss: 1.5539 - val_acc: 0.4696\n",
      "Epoch 4/10\n",
      "35000/35000 [==============================] - 51s 1ms/step - loss: 1.4059 - acc: 0.5215 - val_loss: 1.4824 - val_acc: 0.5016\n",
      "Epoch 5/10\n",
      "35000/35000 [==============================] - 50s 1ms/step - loss: 1.3244 - acc: 0.5533 - val_loss: 1.4445 - val_acc: 0.5074\n",
      "Epoch 6/10\n",
      "35000/35000 [==============================] - 51s 1ms/step - loss: 1.2636 - acc: 0.5739 - val_loss: 1.4330 - val_acc: 0.5116\n",
      "Epoch 7/10\n",
      "35000/35000 [==============================] - 50s 1ms/step - loss: 1.2280 - acc: 0.5864 - val_loss: 1.4229 - val_acc: 0.5159\n",
      "Epoch 8/10\n",
      "35000/35000 [==============================] - 51s 1ms/step - loss: 1.1939 - acc: 0.5969 - val_loss: 1.4165 - val_acc: 0.5272\n",
      "Epoch 9/10\n",
      "35000/35000 [==============================] - 50s 1ms/step - loss: 1.1671 - acc: 0.6063 - val_loss: 1.4221 - val_acc: 0.5231\n",
      "Epoch 10/10\n",
      "35000/35000 [==============================] - 51s 1ms/step - loss: 1.1471 - acc: 0.6131 - val_loss: 1.4079 - val_acc: 0.5265\n"
     ]
    },
    {
     "data": {
      "text/plain": [
       "<keras.callbacks.History at 0x180493c50>"
      ]
     },
     "execution_count": 151,
     "metadata": {},
     "output_type": "execute_result"
    }
   ],
   "source": [
    "model.fit(train, y[:35000], batch_size=32, epochs=10, validation_data=(valid, y[35000:45000]))"
   ]
  },
  {
   "cell_type": "code",
   "execution_count": null,
   "metadata": {
    "collapsed": true
   },
   "outputs": [],
   "source": []
  }
 ],
 "metadata": {
  "kernelspec": {
   "display_name": "Python 3",
   "language": "python",
   "name": "python3"
  },
  "language_info": {
   "codemirror_mode": {
    "name": "ipython",
    "version": 3
   },
   "file_extension": ".py",
   "mimetype": "text/x-python",
   "name": "python",
   "nbconvert_exporter": "python",
   "pygments_lexer": "ipython3",
   "version": "3.6.3"
  }
 },
 "nbformat": 4,
 "nbformat_minor": 2
}
