{
 "cells": [
  {
   "cell_type": "code",
   "execution_count": 57,
   "metadata": {},
   "outputs": [],
   "source": [
    "from keras.models import Sequential\n",
    "from keras.layers import Dense, Activation,Conv2D,MaxPooling2D,Flatten,Dropout\n",
    "from keras.optimizers import SGD\n",
    "from keras.utils.np_utils import to_categorical\n",
    "import numpy as np\n",
    "import matplotlib.pyplot"
   ]
  },
  {
   "cell_type": "code",
   "execution_count": 40,
   "metadata": {},
   "outputs": [],
   "source": [
    "x_three = np.load(\"../../three_channel_digits.npy\") # load from text \n",
    "x_normal = np.load(\"../../train_x_npy.npy\")\n",
    "x_good = np.load(\"../../centered_digits.npy\")\n",
    "\n",
    "x_two = np.zeros((50000, 64, 64, 2))\n",
    "x_two[:,:,:,0] = x_good\n",
    "x_two[:,:,:,1] = x_normal\n",
    "\n",
    "x_good = x_good.reshape(-1, 64, 64, 1)\n",
    "x_normal = x_normal.reshape(-1, 64, 64, 1)\n",
    "\n",
    "y = np.loadtxt(\"../../train_y.csv\", delimiter=\",\") \n",
    "# x = x.reshape(-1, 64,64) # reshape \n",
    "y = y.reshape(-1, 1) "
   ]
  },
  {
   "cell_type": "code",
   "execution_count": 41,
   "metadata": {},
   "outputs": [],
   "source": [
    "y = to_categorical(y)"
   ]
  },
  {
   "cell_type": "code",
   "execution_count": 14,
   "metadata": {},
   "outputs": [
    {
     "name": "stdout",
     "output_type": "stream",
     "text": [
      "Train on 40000 samples, validate on 5000 samples\n",
      "Epoch 1/10\n",
      "40000/40000 [==============================] - 58s 1ms/step - loss: 2.4044 - acc: 0.6717 - val_loss: 0.4995 - val_acc: 0.8554\n",
      "Epoch 2/10\n",
      "40000/40000 [==============================] - 57s 1ms/step - loss: 0.5364 - acc: 0.8474 - val_loss: 0.4384 - val_acc: 0.8720\n",
      "Epoch 3/10\n",
      "40000/40000 [==============================] - 57s 1ms/step - loss: 0.4572 - acc: 0.8719 - val_loss: 0.3843 - val_acc: 0.8928\n",
      "Epoch 4/10\n",
      "40000/40000 [==============================] - 57s 1ms/step - loss: 0.4114 - acc: 0.8853 - val_loss: 0.3886 - val_acc: 0.9038\n",
      "Epoch 5/10\n",
      "40000/40000 [==============================] - 57s 1ms/step - loss: 0.3851 - acc: 0.8927 - val_loss: 0.3932 - val_acc: 0.8984\n",
      "Epoch 6/10\n",
      "40000/40000 [==============================] - 60s 2ms/step - loss: 0.3709 - acc: 0.8963 - val_loss: 0.3597 - val_acc: 0.9078\n",
      "Epoch 7/10\n",
      "40000/40000 [==============================] - 58s 1ms/step - loss: 0.3549 - acc: 0.8985 - val_loss: 0.3769 - val_acc: 0.9076\n",
      "Epoch 8/10\n",
      "40000/40000 [==============================] - 60s 1ms/step - loss: 0.3445 - acc: 0.9027 - val_loss: 0.3780 - val_acc: 0.9036\n",
      "Epoch 9/10\n",
      "40000/40000 [==============================] - 63s 2ms/step - loss: 0.3375 - acc: 0.9033 - val_loss: 0.3643 - val_acc: 0.9148\n",
      "Epoch 10/10\n",
      "40000/40000 [==============================] - 62s 2ms/step - loss: 0.3233 - acc: 0.9073 - val_loss: 0.3599 - val_acc: 0.9140\n"
     ]
    },
    {
     "data": {
      "text/plain": [
       "<keras.callbacks.History at 0x7f01d5d719e8>"
      ]
     },
     "execution_count": 14,
     "metadata": {},
     "output_type": "execute_result"
    }
   ],
   "source": [
    "\"\"\"\n",
    "Architecture:\n",
    "model.add(Conv2D(32, (3,3), activation='relu', data_format='channels_last', input_shape=(64,64,1)))\n",
    "model.add(MaxPooling2D(pool_size=(2,2), strides=(2,2)))\n",
    "model.add(Conv2D(32, (3,3), activation='relu'))\n",
    "model.add(MaxPooling2D(pool_size=(2,2), strides=(2,2)))\n",
    "model.add(Dropout(0.25))\n",
    "model.add(Flatten())\n",
    "model.add(Dense(units=10, activation='softmax'))\n",
    "\n",
    "2 channels:\n",
    "channel 1: biggest digit\n",
    "channel 2: whole image\n",
    "\"\"\"\n",
    "model.fit(full_x[:40000], y[:40000], batch_size=32, epochs=10, validation_data=(full_x[40000:45000], y[40000:45000]))"
   ]
  },
  {
   "cell_type": "code",
   "execution_count": 42,
   "metadata": {},
   "outputs": [
    {
     "name": "stdout",
     "output_type": "stream",
     "text": [
      "Train on 40000 samples, validate on 10000 samples\n",
      "Epoch 1/5\n",
      "40000/40000 [==============================] - 191s 5ms/step - loss: 14.5858 - acc: 0.0950 - val_loss: 14.4740 - val_acc: 0.1020\n",
      "Epoch 2/5\n",
      "40000/40000 [==============================] - 185s 5ms/step - loss: 14.5861 - acc: 0.0950 - val_loss: 14.4740 - val_acc: 0.1020\n",
      "Epoch 3/5\n",
      "40000/40000 [==============================] - 190s 5ms/step - loss: 14.5861 - acc: 0.0950 - val_loss: 14.4740 - val_acc: 0.1020\n",
      "Epoch 4/5\n",
      "40000/40000 [==============================] - 182s 5ms/step - loss: 14.5861 - acc: 0.0950 - val_loss: 14.4740 - val_acc: 0.1020\n",
      "Epoch 5/5\n",
      "40000/40000 [==============================] - 187s 5ms/step - loss: 14.5861 - acc: 0.0950 - val_loss: 14.4740 - val_acc: 0.1020\n"
     ]
    },
    {
     "data": {
      "text/plain": [
       "<keras.callbacks.History at 0x7fce2dc2e470>"
      ]
     },
     "execution_count": 42,
     "metadata": {},
     "output_type": "execute_result"
    }
   ],
   "source": [
    "model = Sequential()\n",
    "model.add(Conv2D(32, (3,3), activation='relu', data_format='channels_last', input_shape=(64,64,1)))\n",
    "model.add(MaxPooling2D(pool_size=(2,2), strides=(2,2)))\n",
    "model.add(Conv2D(32, (3,3), activation='relu'))\n",
    "model.add(MaxPooling2D(pool_size=(2,2), strides=(2,2)))\n",
    "model.add(Dropout(0.25))\n",
    "model.add(Flatten())\n",
    "model.add(Dense(units=1000, activation='relu'))\n",
    "model.add(Dense(units=10, activation='softmax'))\n",
    "model.compile(loss='categorical_crossentropy', optimizer='adam', metrics=['accuracy'])\n",
    "model.fit(x_good[:40000], y[:40000], batch_size=32, epochs=5, validation_data=(x_good[40000:], y[40000:]))"
   ]
  },
  {
   "cell_type": "markdown",
   "metadata": {
    "collapsed": true
   },
   "source": [
    "model = Sequential()\n",
    "model.add(Conv2D(32, (3,3), activation='relu', data_format='channels_last', input_shape=(64,64,1)))\n",
    "model.add(MaxPooling2D(pool_size=(2,2), strides=(2,2)))\n",
    "model.add(Conv2D(32, (3,3), activation='relu'))\n",
    "model.add(MaxPooling2D(pool_size=(2,2), strides=(2,2)))\n",
    "model.add(Dropout(0.25))\n",
    "model.add(Flatten())\n",
    "model.add(Dense(units=1000, activation='relu'))\n",
    "model.add(Dense(units=10, activation='softmax'))\n",
    "model.compile(loss='categorical_crossentropy', optimizer='adam', metrics=['accuracy'])\n",
    "model.fit(x_good[:40000], y[:40000], batch_size=32, epochs=5, validation_data=(x_good[40000:], y[40000:]))"
   ]
  },
  {
   "cell_type": "code",
   "execution_count": 44,
   "metadata": {},
   "outputs": [
    {
     "name": "stdout",
     "output_type": "stream",
     "text": [
      "Train on 40000 samples, validate on 10000 samples\n",
      "Epoch 1/5\n",
      "40000/40000 [==============================] - 66s 2ms/step - loss: 1.0615 - acc: 0.7723 - val_loss: 0.3904 - val_acc: 0.8900\n",
      "Epoch 2/5\n",
      "40000/40000 [==============================] - 64s 2ms/step - loss: 0.3957 - acc: 0.8849 - val_loss: 0.3397 - val_acc: 0.9048\n",
      "Epoch 3/5\n",
      "40000/40000 [==============================] - 62s 2ms/step - loss: 0.3373 - acc: 0.9030 - val_loss: 0.3130 - val_acc: 0.9137\n",
      "Epoch 4/5\n",
      "40000/40000 [==============================] - 66s 2ms/step - loss: 0.2946 - acc: 0.9154 - val_loss: 0.2990 - val_acc: 0.9189\n",
      "Epoch 5/5\n",
      "40000/40000 [==============================] - 64s 2ms/step - loss: 0.2693 - acc: 0.9206 - val_loss: 0.2874 - val_acc: 0.9249\n"
     ]
    },
    {
     "data": {
      "text/plain": [
       "<keras.callbacks.History at 0x7fce1e73c780>"
      ]
     },
     "execution_count": 44,
     "metadata": {},
     "output_type": "execute_result"
    }
   ],
   "source": [
    "model = Sequential()\n",
    "model.add(Conv2D(32, (3,3), activation='relu', data_format='channels_last', input_shape=(64,64,1)))\n",
    "model.add(MaxPooling2D(pool_size=(2,2), strides=(2,2)))\n",
    "model.add(Conv2D(32, (3,3), activation='relu'))\n",
    "model.add(MaxPooling2D(pool_size=(2,2), strides=(2,2)))\n",
    "model.add(Dropout(0.25))\n",
    "model.add(Flatten())\n",
    "model.add(Dense(units=100, activation='relu'))\n",
    "model.add(Dense(units=10, activation='softmax'))\n",
    "model.compile(loss='categorical_crossentropy', optimizer='adam', metrics=['accuracy'])\n",
    "model.fit(x_good[:40000], y[:40000], batch_size=32, epochs=5, validation_data=(x_good[40000:], y[40000:]))"
   ]
  },
  {
   "cell_type": "code",
   "execution_count": 45,
   "metadata": {},
   "outputs": [
    {
     "name": "stdout",
     "output_type": "stream",
     "text": [
      "Train on 40000 samples, validate on 10000 samples\n",
      "Epoch 1/5\n",
      "40000/40000 [==============================] - 52s 1ms/step - loss: 1.9245 - acc: 0.7031 - val_loss: 0.4894 - val_acc: 0.8666\n",
      "Epoch 2/5\n",
      "40000/40000 [==============================] - 51s 1ms/step - loss: 0.5397 - acc: 0.8469 - val_loss: 0.4327 - val_acc: 0.8855\n",
      "Epoch 3/5\n",
      "40000/40000 [==============================] - 52s 1ms/step - loss: 0.4603 - acc: 0.8710 - val_loss: 0.4016 - val_acc: 0.8907\n",
      "Epoch 4/5\n",
      "40000/40000 [==============================] - 52s 1ms/step - loss: 0.4215 - acc: 0.8820 - val_loss: 0.4003 - val_acc: 0.8931\n",
      "Epoch 5/5\n",
      "40000/40000 [==============================] - 52s 1ms/step - loss: 0.3928 - acc: 0.8891 - val_loss: 0.3848 - val_acc: 0.8985\n"
     ]
    },
    {
     "data": {
      "text/plain": [
       "<keras.callbacks.History at 0x7fce1e1d6f98>"
      ]
     },
     "execution_count": 45,
     "metadata": {},
     "output_type": "execute_result"
    }
   ],
   "source": [
    "model = Sequential()\n",
    "model.add(Conv2D(32, (3,3), activation='relu', data_format='channels_last', input_shape=(64,64,1)))\n",
    "model.add(MaxPooling2D(pool_size=(2,2), strides=(2,2)))\n",
    "model.add(Conv2D(32, (3,3), activation='relu'))\n",
    "model.add(MaxPooling2D(pool_size=(2,2), strides=(2,2)))\n",
    "model.add(Dropout(0.25))\n",
    "model.add(Flatten())\n",
    "model.add(Dense(units=10, activation='softmax'))\n",
    "model.compile(loss='categorical_crossentropy', optimizer='adam', metrics=['accuracy'])\n",
    "model.fit(x_good[:40000], y[:40000], batch_size=32, epochs=5, validation_data=(x_good[40000:], y[40000:]))"
   ]
  },
  {
   "cell_type": "code",
   "execution_count": 47,
   "metadata": {},
   "outputs": [
    {
     "name": "stdout",
     "output_type": "stream",
     "text": [
      "Train on 40000 samples, validate on 10000 samples\n",
      "Epoch 1/10\n",
      "40000/40000 [==============================] - 55s 1ms/step - loss: 1.1503 - acc: 0.6573 - val_loss: 0.4717 - val_acc: 0.8640\n",
      "Epoch 2/10\n",
      "40000/40000 [==============================] - 54s 1ms/step - loss: 0.5031 - acc: 0.8554 - val_loss: 0.3443 - val_acc: 0.9052\n",
      "Epoch 3/10\n",
      "40000/40000 [==============================] - 54s 1ms/step - loss: 0.4097 - acc: 0.8856 - val_loss: 0.3126 - val_acc: 0.9168\n",
      "Epoch 4/10\n",
      "40000/40000 [==============================] - 54s 1ms/step - loss: 0.3609 - acc: 0.9002 - val_loss: 0.3010 - val_acc: 0.9193\n",
      "Epoch 5/10\n",
      "40000/40000 [==============================] - 54s 1ms/step - loss: 0.3302 - acc: 0.9085 - val_loss: 0.2847 - val_acc: 0.9251\n",
      "Epoch 6/10\n",
      "40000/40000 [==============================] - 54s 1ms/step - loss: 0.3128 - acc: 0.9150 - val_loss: 0.2845 - val_acc: 0.9223\n",
      "Epoch 7/10\n",
      "40000/40000 [==============================] - 54s 1ms/step - loss: 0.2965 - acc: 0.9196 - val_loss: 0.2779 - val_acc: 0.9260\n",
      "Epoch 8/10\n",
      "40000/40000 [==============================] - 54s 1ms/step - loss: 0.2837 - acc: 0.9219 - val_loss: 0.2665 - val_acc: 0.9299\n",
      "Epoch 9/10\n",
      "40000/40000 [==============================] - 54s 1ms/step - loss: 0.2698 - acc: 0.9264 - val_loss: 0.2766 - val_acc: 0.9239\n",
      "Epoch 10/10\n",
      "40000/40000 [==============================] - 54s 1ms/step - loss: 0.2625 - acc: 0.9290 - val_loss: 0.2616 - val_acc: 0.9316\n"
     ]
    },
    {
     "data": {
      "text/plain": [
       "<keras.callbacks.History at 0x7fce1d683be0>"
      ]
     },
     "execution_count": 47,
     "metadata": {},
     "output_type": "execute_result"
    }
   ],
   "source": [
    "model = Sequential()\n",
    "model.add(Conv2D(32, (3,3), activation='relu', data_format='channels_last', input_shape=(64,64,1)))\n",
    "model.add(MaxPooling2D(pool_size=(2,2), strides=(2,2)))\n",
    "model.add(Conv2D(32, (3,3), activation='relu'))\n",
    "model.add(MaxPooling2D(pool_size=(2,2), strides=(2,2)))\n",
    "model.add(Conv2D(32, (3,3), activation='relu'))\n",
    "model.add(MaxPooling2D(pool_size=(2,2), strides=(2,2)))\n",
    "model.add(Conv2D(32, (3,3), activation='relu'))\n",
    "model.add(MaxPooling2D(pool_size=(2,2), strides=(2,2)))\n",
    "model.add(Dropout(0.25))\n",
    "model.add(Flatten())\n",
    "model.add(Dense(units=100, activation='relu'))\n",
    "model.add(Dense(units=10, activation='softmax'))\n",
    "model.compile(loss='categorical_crossentropy', optimizer='adam', metrics=['accuracy'])\n",
    "model.fit(x_good[:40000], y[:40000], batch_size=32, epochs=10, validation_data=(x_good[40000:], y[40000:]))"
   ]
  },
  {
   "cell_type": "code",
   "execution_count": 48,
   "metadata": {},
   "outputs": [
    {
     "name": "stdout",
     "output_type": "stream",
     "text": [
      "Train on 40000 samples, validate on 10000 samples\n",
      "Epoch 1/10\n",
      "40000/40000 [==============================] - 55s 1ms/step - loss: 1.2171 - acc: 0.6815 - val_loss: 0.4666 - val_acc: 0.8664\n",
      "Epoch 2/10\n",
      "40000/40000 [==============================] - 54s 1ms/step - loss: 0.4993 - acc: 0.8598 - val_loss: 0.3888 - val_acc: 0.8939\n",
      "Epoch 3/10\n",
      "40000/40000 [==============================] - 54s 1ms/step - loss: 0.4114 - acc: 0.8863 - val_loss: 0.3190 - val_acc: 0.9147\n",
      "Epoch 4/10\n",
      "40000/40000 [==============================] - 54s 1ms/step - loss: 0.3720 - acc: 0.8975 - val_loss: 0.3218 - val_acc: 0.9154\n",
      "Epoch 5/10\n",
      "40000/40000 [==============================] - 54s 1ms/step - loss: 0.3388 - acc: 0.9089 - val_loss: 0.3207 - val_acc: 0.9185\n",
      "Epoch 6/10\n",
      "40000/40000 [==============================] - 54s 1ms/step - loss: 0.3238 - acc: 0.9123 - val_loss: 0.2869 - val_acc: 0.9226\n",
      "Epoch 7/10\n",
      "40000/40000 [==============================] - 54s 1ms/step - loss: 0.3062 - acc: 0.9177 - val_loss: 0.2677 - val_acc: 0.9289\n",
      "Epoch 8/10\n",
      "40000/40000 [==============================] - 54s 1ms/step - loss: 0.2877 - acc: 0.9213 - val_loss: 0.2916 - val_acc: 0.9248\n",
      "Epoch 9/10\n",
      "40000/40000 [==============================] - 54s 1ms/step - loss: 0.2767 - acc: 0.9242 - val_loss: 0.3013 - val_acc: 0.9188\n",
      "Epoch 10/10\n",
      "40000/40000 [==============================] - 60s 1ms/step - loss: 0.2687 - acc: 0.9242 - val_loss: 0.2674 - val_acc: 0.9291\n"
     ]
    },
    {
     "data": {
      "text/plain": [
       "<keras.callbacks.History at 0x7fce1cf87f60>"
      ]
     },
     "execution_count": 48,
     "metadata": {},
     "output_type": "execute_result"
    }
   ],
   "source": [
    "model = Sequential()\n",
    "model.add(Conv2D(32, (3,3), activation='relu', data_format='channels_last', input_shape=(64,64,1)))\n",
    "model.add(MaxPooling2D(pool_size=(2,2), strides=(2,2)))\n",
    "model.add(Conv2D(32, (3,3), activation='relu'))\n",
    "model.add(MaxPooling2D(pool_size=(2,2), strides=(2,2)))\n",
    "model.add(Conv2D(32, (3,3), activation='relu'))\n",
    "model.add(MaxPooling2D(pool_size=(2,2), strides=(2,2)))\n",
    "model.add(Conv2D(32, (3,3), activation='relu'))\n",
    "model.add(MaxPooling2D(pool_size=(2,2), strides=(2,2)))\n",
    "model.add(Dropout(0.25))\n",
    "model.add(Flatten())\n",
    "model.add(Dense(units=10, activation='softmax'))\n",
    "model.compile(loss='categorical_crossentropy', optimizer='adam', metrics=['accuracy'])\n",
    "model.fit(x_good[:40000], y[:40000], batch_size=32, epochs=10, validation_data=(x_good[40000:], y[40000:]))"
   ]
  },
  {
   "cell_type": "code",
   "execution_count": 49,
   "metadata": {},
   "outputs": [
    {
     "name": "stdout",
     "output_type": "stream",
     "text": [
      "Train on 40000 samples, validate on 10000 samples\n",
      "Epoch 1/10\n",
      "40000/40000 [==============================] - 55s 1ms/step - loss: 1.3501 - acc: 0.7084 - val_loss: 0.4411 - val_acc: 0.8765\n",
      "Epoch 2/10\n",
      "40000/40000 [==============================] - 54s 1ms/step - loss: 0.4775 - acc: 0.8662 - val_loss: 0.3610 - val_acc: 0.9046\n",
      "Epoch 3/10\n",
      "40000/40000 [==============================] - 53s 1ms/step - loss: 0.4097 - acc: 0.8864 - val_loss: 0.3327 - val_acc: 0.9103\n",
      "Epoch 4/10\n",
      "40000/40000 [==============================] - 53s 1ms/step - loss: 0.3798 - acc: 0.8965 - val_loss: 0.3319 - val_acc: 0.9065\n",
      "Epoch 5/10\n",
      "40000/40000 [==============================] - 54s 1ms/step - loss: 0.3512 - acc: 0.9049 - val_loss: 0.3249 - val_acc: 0.9157\n",
      "Epoch 6/10\n",
      "40000/40000 [==============================] - 53s 1ms/step - loss: 0.3388 - acc: 0.9073 - val_loss: 0.3094 - val_acc: 0.9220\n",
      "Epoch 7/10\n",
      "40000/40000 [==============================] - 53s 1ms/step - loss: 0.3294 - acc: 0.9096 - val_loss: 0.2983 - val_acc: 0.9213\n",
      "Epoch 8/10\n",
      "40000/40000 [==============================] - 53s 1ms/step - loss: 0.3143 - acc: 0.9129 - val_loss: 0.3152 - val_acc: 0.9193\n",
      "Epoch 9/10\n",
      "40000/40000 [==============================] - 53s 1ms/step - loss: 0.3032 - acc: 0.9175 - val_loss: 0.3023 - val_acc: 0.9261\n",
      "Epoch 10/10\n",
      "40000/40000 [==============================] - 55s 1ms/step - loss: 0.3001 - acc: 0.9183 - val_loss: 0.3128 - val_acc: 0.9196\n"
     ]
    },
    {
     "data": {
      "text/plain": [
       "<keras.callbacks.History at 0x7fce1d79da90>"
      ]
     },
     "execution_count": 49,
     "metadata": {},
     "output_type": "execute_result"
    }
   ],
   "source": [
    "model = Sequential()\n",
    "model.add(Conv2D(32, (3,3), activation='relu', data_format='channels_last', input_shape=(64,64,1)))\n",
    "model.add(MaxPooling2D(pool_size=(2,2), strides=(2,2)))\n",
    "model.add(Conv2D(32, (3,3), activation='relu'))\n",
    "model.add(MaxPooling2D(pool_size=(2,2), strides=(2,2)))\n",
    "model.add(Conv2D(32, (3,3), activation='relu'))\n",
    "model.add(MaxPooling2D(pool_size=(2,2), strides=(2,2)))\n",
    "model.add(Dropout(0.25))\n",
    "model.add(Flatten())\n",
    "model.add(Dense(units=10, activation='softmax'))\n",
    "model.compile(loss='categorical_crossentropy', optimizer='adam', metrics=['accuracy'])\n",
    "model.fit(x_good[:40000], y[:40000], batch_size=32, epochs=10, validation_data=(x_good[40000:], y[40000:]))"
   ]
  },
  {
   "cell_type": "code",
   "execution_count": 50,
   "metadata": {},
   "outputs": [
    {
     "name": "stdout",
     "output_type": "stream",
     "text": [
      "WARNING:tensorflow:Variable *= will be deprecated. Use variable.assign_mul if you want assignment to the variable value or 'x = x * y' if you want a new python Tensor object.\n",
      "Train on 40000 samples, validate on 10000 samples\n",
      "Epoch 1/10\n",
      "40000/40000 [==============================] - 63s 2ms/step - loss: 14.5872 - acc: 0.0949 - val_loss: 14.4740 - val_acc: 0.1020\n",
      "Epoch 2/10\n",
      "40000/40000 [==============================] - 68s 2ms/step - loss: 14.5861 - acc: 0.0950 - val_loss: 14.4740 - val_acc: 0.1020\n",
      "Epoch 3/10\n",
      "40000/40000 [==============================] - 70s 2ms/step - loss: 14.5861 - acc: 0.0950 - val_loss: 14.4740 - val_acc: 0.1020\n",
      "Epoch 4/10\n",
      "40000/40000 [==============================] - 66s 2ms/step - loss: 14.5861 - acc: 0.0950 - val_loss: 14.4740 - val_acc: 0.1020\n",
      "Epoch 5/10\n",
      "40000/40000 [==============================] - 66s 2ms/step - loss: 14.5861 - acc: 0.0950 - val_loss: 14.4740 - val_acc: 0.1020\n",
      "Epoch 6/10\n",
      "40000/40000 [==============================] - 66s 2ms/step - loss: 14.5861 - acc: 0.0950 - val_loss: 14.4740 - val_acc: 0.1020\n",
      "Epoch 7/10\n",
      "40000/40000 [==============================] - 66s 2ms/step - loss: 14.5861 - acc: 0.0950 - val_loss: 14.4740 - val_acc: 0.1020\n",
      "Epoch 8/10\n",
      "40000/40000 [==============================] - 71s 2ms/step - loss: 14.5861 - acc: 0.0950 - val_loss: 14.4740 - val_acc: 0.1020\n",
      "Epoch 9/10\n",
      "40000/40000 [==============================] - 70s 2ms/step - loss: 14.5861 - acc: 0.0950 - val_loss: 14.4740 - val_acc: 0.1020\n",
      "Epoch 10/10\n",
      "40000/40000 [==============================] - 68s 2ms/step - loss: 14.5861 - acc: 0.0950 - val_loss: 14.4740 - val_acc: 0.1020\n"
     ]
    },
    {
     "data": {
      "text/plain": [
       "<keras.callbacks.History at 0x7fce1c35f9e8>"
      ]
     },
     "execution_count": 50,
     "metadata": {},
     "output_type": "execute_result"
    }
   ],
   "source": [
    "model = Sequential()\n",
    "model.add(Conv2D(32, (3,3), activation='relu', data_format='channels_last', input_shape=(64,64,1)))\n",
    "model.add(MaxPooling2D(pool_size=(2,2), strides=(2,2)))\n",
    "model.add(Conv2D(32, (3,3), activation='relu'))\n",
    "model.add(MaxPooling2D(pool_size=(2,2), strides=(2,2)))\n",
    "model.add(Conv2D(32, (3,3), activation='relu'))\n",
    "model.add(MaxPooling2D(pool_size=(2,2), strides=(2,2)))\n",
    "model.add(Conv2D(32, (3,3), activation='relu'))\n",
    "model.add(MaxPooling2D(pool_size=(2,2), strides=(2,2)))\n",
    "model.add(Dropout(0.25))\n",
    "model.add(Flatten())\n",
    "model.add(Dense(units=10, activation='softmax'))\n",
    "sgd = SGD(lr=1, decay=1e-6, momentum=0.9, nesterov=True)\n",
    "model.compile(loss='categorical_crossentropy', optimizer=sgd, metrics=['accuracy'])\n",
    "model.fit(x_good[:40000], y[:40000], batch_size=32, epochs=10, validation_data=(x_good[40000:], y[40000:]))"
   ]
  },
  {
   "cell_type": "code",
   "execution_count": 52,
   "metadata": {},
   "outputs": [
    {
     "name": "stdout",
     "output_type": "stream",
     "text": [
      "Train on 40000 samples, validate on 10000 samples\n",
      "Epoch 1/30\n",
      "40000/40000 [==============================] - 70s 2ms/step - loss: 1.6863 - acc: 0.6310 - val_loss: 0.5038 - val_acc: 0.8527\n",
      "Epoch 2/30\n",
      "40000/40000 [==============================] - 67s 2ms/step - loss: 0.5398 - acc: 0.8458 - val_loss: 0.3882 - val_acc: 0.8944\n",
      "Epoch 3/30\n",
      "40000/40000 [==============================] - 67s 2ms/step - loss: 0.4455 - acc: 0.8750 - val_loss: 0.3394 - val_acc: 0.9070\n",
      "Epoch 4/30\n",
      "40000/40000 [==============================] - 66s 2ms/step - loss: 0.3956 - acc: 0.8904 - val_loss: 0.3420 - val_acc: 0.9082\n",
      "Epoch 5/30\n",
      "40000/40000 [==============================] - 69s 2ms/step - loss: 0.3696 - acc: 0.8979 - val_loss: 0.3057 - val_acc: 0.9183\n",
      "Epoch 6/30\n",
      "40000/40000 [==============================] - 67s 2ms/step - loss: 0.3442 - acc: 0.9046 - val_loss: 0.3002 - val_acc: 0.9212\n",
      "Epoch 7/30\n",
      "40000/40000 [==============================] - 66s 2ms/step - loss: 0.3245 - acc: 0.9114 - val_loss: 0.2877 - val_acc: 0.9262\n",
      "Epoch 8/30\n",
      "40000/40000 [==============================] - 65s 2ms/step - loss: 0.3098 - acc: 0.9140 - val_loss: 0.2919 - val_acc: 0.9239\n",
      "Epoch 9/30\n",
      "40000/40000 [==============================] - 68s 2ms/step - loss: 0.2901 - acc: 0.9199 - val_loss: 0.2910 - val_acc: 0.9218\n",
      "Epoch 10/30\n",
      "40000/40000 [==============================] - 67s 2ms/step - loss: 0.2856 - acc: 0.9214 - val_loss: 0.2758 - val_acc: 0.9308\n",
      "Epoch 11/30\n",
      "40000/40000 [==============================] - 66s 2ms/step - loss: 0.2769 - acc: 0.9236 - val_loss: 0.2867 - val_acc: 0.9282\n",
      "Epoch 12/30\n",
      "40000/40000 [==============================] - 64s 2ms/step - loss: 0.2728 - acc: 0.9240 - val_loss: 0.2731 - val_acc: 0.9313\n",
      "Epoch 13/30\n",
      "40000/40000 [==============================] - 65s 2ms/step - loss: 0.2656 - acc: 0.9255 - val_loss: 0.2843 - val_acc: 0.9262\n",
      "Epoch 14/30\n",
      "40000/40000 [==============================] - 66s 2ms/step - loss: 0.2526 - acc: 0.9295 - val_loss: 0.2772 - val_acc: 0.9315\n",
      "Epoch 15/30\n",
      "40000/40000 [==============================] - 65s 2ms/step - loss: 0.2443 - acc: 0.9309 - val_loss: 0.2849 - val_acc: 0.9300\n",
      "Epoch 16/30\n",
      "40000/40000 [==============================] - 67s 2ms/step - loss: 0.2416 - acc: 0.9325 - val_loss: 0.2783 - val_acc: 0.9286\n",
      "Epoch 17/30\n",
      "40000/40000 [==============================] - 66s 2ms/step - loss: 0.2330 - acc: 0.9335 - val_loss: 0.2887 - val_acc: 0.9257\n",
      "Epoch 18/30\n",
      "40000/40000 [==============================] - 63s 2ms/step - loss: 0.2327 - acc: 0.9335 - val_loss: 0.2894 - val_acc: 0.9289\n",
      "Epoch 19/30\n",
      "40000/40000 [==============================] - 64s 2ms/step - loss: 0.2285 - acc: 0.9353 - val_loss: 0.2894 - val_acc: 0.9306\n",
      "Epoch 20/30\n",
      "40000/40000 [==============================] - 68s 2ms/step - loss: 0.2258 - acc: 0.9347 - val_loss: 0.2871 - val_acc: 0.9299\n",
      "Epoch 21/30\n",
      "40000/40000 [==============================] - 67s 2ms/step - loss: 0.2158 - acc: 0.9388 - val_loss: 0.2921 - val_acc: 0.9273\n",
      "Epoch 22/30\n",
      "40000/40000 [==============================] - 58s 1ms/step - loss: 0.2141 - acc: 0.9366 - val_loss: 0.3248 - val_acc: 0.9262\n",
      "Epoch 23/30\n",
      "40000/40000 [==============================] - 57s 1ms/step - loss: 0.2211 - acc: 0.9361 - val_loss: 0.3084 - val_acc: 0.9314\n",
      "Epoch 24/30\n",
      "40000/40000 [==============================] - 56s 1ms/step - loss: 0.2129 - acc: 0.9367 - val_loss: 0.2920 - val_acc: 0.9299\n",
      "Epoch 25/30\n",
      "40000/40000 [==============================] - 56s 1ms/step - loss: 0.2046 - acc: 0.9395 - val_loss: 0.3119 - val_acc: 0.9314\n",
      "Epoch 26/30\n",
      "40000/40000 [==============================] - 55s 1ms/step - loss: 0.2025 - acc: 0.9409 - val_loss: 0.3027 - val_acc: 0.9299\n",
      "Epoch 27/30\n",
      "40000/40000 [==============================] - 55s 1ms/step - loss: 0.2024 - acc: 0.9402 - val_loss: 0.3027 - val_acc: 0.9293\n",
      "Epoch 28/30\n",
      "40000/40000 [==============================] - 57s 1ms/step - loss: 0.1977 - acc: 0.9416 - val_loss: 0.3302 - val_acc: 0.9270\n",
      "Epoch 29/30\n",
      "40000/40000 [==============================] - 57s 1ms/step - loss: 0.1968 - acc: 0.9418 - val_loss: 0.3077 - val_acc: 0.9293\n",
      "Epoch 30/30\n",
      "40000/40000 [==============================] - 56s 1ms/step - loss: 0.1901 - acc: 0.9426 - val_loss: 0.3129 - val_acc: 0.9281\n"
     ]
    },
    {
     "data": {
      "text/plain": [
       "<keras.callbacks.History at 0x7fce1ba17fd0>"
      ]
     },
     "execution_count": 52,
     "metadata": {},
     "output_type": "execute_result"
    }
   ],
   "source": [
    "model = Sequential()\n",
    "model.add(Conv2D(32, (3,3), activation='relu', data_format='channels_last', input_shape=(64,64,1)))\n",
    "model.add(MaxPooling2D(pool_size=(2,2), strides=(2,2)))\n",
    "model.add(Conv2D(32, (3,3), activation='relu'))\n",
    "model.add(MaxPooling2D(pool_size=(2,2), strides=(2,2)))\n",
    "model.add(Conv2D(32, (3,3), activation='relu'))\n",
    "model.add(MaxPooling2D(pool_size=(2,2), strides=(2,2)))\n",
    "model.add(Conv2D(32, (3,3), activation='relu'))\n",
    "model.add(MaxPooling2D(pool_size=(2,2), strides=(2,2)))\n",
    "model.add(Dropout(0.25))\n",
    "model.add(Flatten())\n",
    "model.add(Dense(units=10, activation='softmax'))\n",
    "model.compile(loss='categorical_crossentropy', optimizer='adam', metrics=['accuracy'])\n",
    "model.fit(x_good[:40000], y[:40000], batch_size=32, epochs=30, validation_data=(x_good[40000:], y[40000:]))"
   ]
  },
  {
   "cell_type": "code",
   "execution_count": 54,
   "metadata": {},
   "outputs": [],
   "source": [
    " training = [0.6310, 0.8458, 0.8750, 0.8904, 0.8979, 0.9046, 0.9114, 0.9140, 0.9199, 0.9214, 0.9236, 0.9240, 0.9255, 0.9295, 0.9309, 0.9325, 0.9335,0.9353,0.9347, 0.9388, 0.9366, 0.9361, 0.9367, 0.9395, 0.9409, 0.9416, 0.9418, 0.9426] "
   ]
  },
  {
   "cell_type": "code",
   "execution_count": 55,
   "metadata": {},
   "outputs": [],
   "source": [
    "validation = [ 0.8527, 0.8944, 0.9070, 0.9082, 0.9183, 0.9212, 0.9262, 0.9239, 0.9218, 0.9308, 0.9282, 0.9313, 0.9262, 0.9315, 0.9300, 0.9286, 0.9257, 0.9289, 0.9306, 0.9299, 0.9273 , 0.9262, 0.9314, 0.9299, 0.9293, 0.9270, 0.9293, 0.9281]"
   ]
  },
  {
   "cell_type": "code",
   "execution_count": 61,
   "metadata": {},
   "outputs": [
    {
     "data": {
      "image/png": "[encoded data removed]",
      "text/plain": [
       "<Figure size 1440x720 with 1 Axes>"
      ]
     },
     "metadata": {},
     "output_type": "display_data"
    }
   ],
   "source": [
    "l1, l2, font, s1, s2, padding = 3.0, 10.0, 25.0, 12, 4.0, 10.0\n",
    "fig=matplotlib.pyplot.figure(\"dasdasdt\",figsize=(20,10))\n",
    "matplotlib.pyplot.rcParams.update({'font.size': font})\n",
    "ax = fig.add_subplot(111)\n",
    "ax.ticklabel_format(style='sci', scilimits=(-2,3), axis='y')\n",
    "for axis in ['top', 'bottom', 'left', 'right']:\n",
    "    ax.spines[axis].set_linewidth(l1)\n",
    "    ax.xaxis.set_tick_params(width=l1, length=l2, pad=padding)\n",
    "    ax.yaxis.set_tick_params(width=l1, length=l2, pad=padding)\n",
    "matplotlib.pyplot.plot(range(len(training)), training)\n",
    "matplotlib.pyplot.plot(range(len(validation)), validation)\n",
    "matplotlib.pyplot.xlabel(\"Number of EPOCHS\")\n",
    "matplotlib.pyplot.ylabel(\"Accuracy\")\n",
    "matplotlib.pyplot.legend([\"training\", \"validation\"])\n",
    "matplotlib.pyplot.show()"
   ]
  },
  {
   "cell_type": "code",
   "execution_count": null,
   "metadata": {},
   "outputs": [],
   "source": []
  }
 ],
 "metadata": {
  "kernelspec": {
   "display_name": "Python 3",
   "language": "python",
   "name": "python3"
  },
  "language_info": {
   "codemirror_mode": {
    "name": "ipython",
    "version": 3
   },
   "file_extension": ".py",
   "mimetype": "text/x-python",
   "name": "python",
   "nbconvert_exporter": "python",
   "pygments_lexer": "ipython3",
   "version": "3.5.2"
  }
 },
 "nbformat": 4,
 "nbformat_minor": 2
}
