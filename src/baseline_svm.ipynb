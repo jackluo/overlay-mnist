{
 "cells": [
  {
   "cell_type": "code",
   "execution_count": 7,
   "metadata": {},
   "outputs": [],
   "source": [
    "import numpy as np\n",
    "from sklearn.svm import LinearSVC\n",
    "import time\n",
    "from sklearn.model_selection import GridSearchCV\n",
    "from sklearn.metrics import f1_score"
   ]
  },
  {
   "cell_type": "code",
   "execution_count": 2,
   "metadata": {},
   "outputs": [
    {
     "name": "stdout",
     "output_type": "stream",
     "text": [
      "Loading train_x.npy, elapsed time:  2.3493670886075948e-05\n",
      "Loaded train_x.csv. Loading train_y.csv, elapsed time:  0.6113055864978902\n",
      "Time elapsed:  200.47958521518987\n"
     ]
    }
   ],
   "source": [
    "start_time = time.clock()\n",
    "\n",
    "print(\"Loading train_x.npy, elapsed time: \", time.clock() - start_time)\n",
    "# x = np.loadtxt(\"../data/train_x.csv\", delimiter=\",\", dtype=int)\n",
    "x = np.load(\"x_centred_train.npy\")\n",
    "print(\"Loaded train_x.npy. Loading train_y.csv, elapsed time: \", time.clock() - start_time)\n",
    "y = np.loadtxt(\"train_y.csv\", delimiter=\",\", dtype=int)\n",
    "\n",
    "#shape arrays\n",
    "x = x.reshape(-1, 64*64)\n",
    "y = y.reshape(-1, 1)\n",
    "y = y.flatten()\n",
    "\n",
    "#shuffle and split data\n",
    "state = np.random.get_state()\n",
    "np.random.shuffle(x)\n",
    "np.random.set_state(state)\n",
    "np.random.shuffle(y)\n",
    "x_train = x[:45000]\n",
    "y_train = y[:45000]\n",
    "x_valid = x[45000:50000]\n",
    "y_valid = y[45000:50000]\n",
    "\n",
    "# tol_params = [1e-7,1e-6,1e-5,1e-4,1e-3,1e-2,1e-1,1]\n",
    "# c_params = [1e-3,1e-2,1e-1,1]\n",
    "# model = GridSearchCV(estimator=LinearSVC(loss=\"hinge\"), param_grid={'C': c_params, \"tol\": tol_params}, scoring='f1_macro')\n",
    "# model.fit(x[:5000], y[:5000])\n",
    "# print(model.best_estimator_)\n",
    "# best parameters found to be {'C': 1, 'tol': 0.0001}\n",
    "\n",
    "model = LinearSVC(loss=\"hinge\", tol=1e-1, C=1)\n",
    "model.fit(x_train, y_train)\n",
    "\n",
    "print(\"Time elapsed: \", time.clock() - start_time)"
   ]
  },
  {
   "cell_type": "code",
   "execution_count": 4,
   "metadata": {},
   "outputs": [
    {
     "name": "stdout",
     "output_type": "stream",
     "text": [
      "Score on validation set:  0.5252\n"
     ]
    }
   ],
   "source": [
    "print(\"Mean accuracy on validation set: \", model.score(x_valid, y_valid))"
   ]
  },
  {
   "cell_type": "code",
   "execution_count": 8,
   "metadata": {},
   "outputs": [
    {
     "name": "stdout",
     "output_type": "stream",
     "text": [
      "f1 score on validation set:  0.5054431070324202\n"
     ]
    }
   ],
   "source": [
    "preds = model.predict(x_valid)\n",
    "print(\"f1 score on validation set: \", f1_score(preds, y_valid, average=\"macro\"))"
   ]
  },
  {
   "cell_type": "code",
   "execution_count": null,
   "metadata": {},
   "outputs": [],
   "source": []
  }
 ],
 "metadata": {
  "kernelspec": {
   "display_name": "Python 3",
   "language": "python",
   "name": "python3"
  },
  "language_info": {
   "codemirror_mode": {
    "name": "ipython",
    "version": 3
   },
   "file_extension": ".py",
   "mimetype": "text/x-python",
   "name": "python",
   "nbconvert_exporter": "python",
   "pygments_lexer": "ipython3",
   "version": "3.6.4"
  }
 },
 "nbformat": 4,
 "nbformat_minor": 2
}
