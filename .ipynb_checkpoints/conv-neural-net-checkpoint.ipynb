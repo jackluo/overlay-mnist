{
 "cells": [
  {
   "cell_type": "code",
   "execution_count": 76,
   "metadata": {},
   "outputs": [],
   "source": [
    "import numpy as np\n",
    "import scipy as sp\n",
    "import matplotlib.pyplot as plt\n",
    "\n",
    "from keras.models import Sequential\n",
    "from keras.layers import Dense, Activation, Conv2D, MaxPooling2D, Flatten, Dropout\n",
    "from keras.optimizers import SGD\n",
    "from keras.utils.np_utils import to_categorical"
   ]
  },
  {
   "cell_type": "code",
   "execution_count": 77,
   "metadata": {},
   "outputs": [],
   "source": [
    "# x = np.loadtxt(\"train_x.csv\", delimiter=\",\") # load from text \n",
    "x = np.load(\"data/train_X_centered.npy\")\n",
    "y = np.loadtxt(\"data/train_y.csv\", delimiter=\",\") \n",
    "\n",
    "# X_list = []\n",
    "# for i in range(x.shape[0]):\n",
    "#     i = sp.misc.imresize(x[0], (28, 28))\n",
    "#     X_list.append(i)\n",
    "# x = np.array(X_list)\n",
    "\n",
    "x = x.reshape(x.shape[0], 50, 50, 1)\n",
    "y = y.reshape(-1, 1) \n",
    "y = to_categorical(y)"
   ]
  },
  {
   "cell_type": "code",
   "execution_count": 78,
   "metadata": {},
   "outputs": [
    {
     "data": {
      "image/png": "[encoded data removed]",
      "text/plain": [
       "<Figure size 432x288 with 1 Axes>"
      ]
     },
     "metadata": {},
     "output_type": "display_data"
    }
   ],
   "source": [
    "plt.imshow(x[4,:,:,0])\n",
    "plt.show()"
   ]
  },
  {
   "cell_type": "code",
   "execution_count": 79,
   "metadata": {},
   "outputs": [],
   "source": [
    "model = Sequential()"
   ]
  },
  {
   "cell_type": "code",
   "execution_count": 80,
   "metadata": {},
   "outputs": [],
   "source": [
    "model.add(Conv2D(32, (3,3), activation='relu', data_format='channels_last', input_shape=(50,50,1)))\n",
    "model.add(MaxPooling2D(pool_size=(2,2), strides=(2,2)))\n",
    "model.add(Conv2D(32, (3,3), activation='relu'))\n",
    "model.add(MaxPooling2D(pool_size=(2,2), strides=(2,2)))\n",
    "#model.add(Conv2D(64, (3,3), activation='relu'))\n",
    "#model.add(Conv2D(64, (3,3), activation='relu'))\n",
    "#model.add(Dense(256))\n",
    "#model.add(Dense(25, activation='relu'))\n",
    "model.add(Dropout(0.35))\n",
    "model.add(Flatten())\n",
    "model.add(Dense(units=10, activation='softmax'))"
   ]
  },
  {
   "cell_type": "code",
   "execution_count": 81,
   "metadata": {},
   "outputs": [
    {
     "name": "stdout",
     "output_type": "stream",
     "text": [
      "_________________________________________________________________\n",
      "Layer (type)                 Output Shape              Param #   \n",
      "=================================================================\n",
      "conv2d_26 (Conv2D)           (None, 48, 48, 32)        320       \n",
      "_________________________________________________________________\n",
      "max_pooling2d_21 (MaxPooling (None, 24, 24, 32)        0         \n",
      "_________________________________________________________________\n",
      "conv2d_27 (Conv2D)           (None, 22, 22, 32)        9248      \n",
      "_________________________________________________________________\n",
      "max_pooling2d_22 (MaxPooling (None, 11, 11, 32)        0         \n",
      "_________________________________________________________________\n",
      "dropout_11 (Dropout)         (None, 11, 11, 32)        0         \n",
      "_________________________________________________________________\n",
      "flatten_11 (Flatten)         (None, 3872)              0         \n",
      "_________________________________________________________________\n",
      "dense_22 (Dense)             (None, 10)                38730     \n",
      "=================================================================\n",
      "Total params: 48,298\n",
      "Trainable params: 48,298\n",
      "Non-trainable params: 0\n",
      "_________________________________________________________________\n"
     ]
    }
   ],
   "source": [
    "model.summary()\n",
    "# model.add(Conv2D(32, (3,3), activation='relu', data_format='channels_last', input_shape=(64,64,1)))\n",
    "# model.add(MaxPooling2D(pool_size=(2,2), strides=(2,2)))\n",
    "# model.add(Conv2D(32, (3,3), activation='relu'))\n",
    "# model.add(MaxPooling2D(pool_size=(2,2), strides=(2,2)))\n",
    "# model.add(Dropout(0.25))\n",
    "# model.add(Flatten())\n",
    "# model.add(Dense(units=10, activation='softmax'))"
   ]
  },
  {
   "cell_type": "code",
   "execution_count": 82,
   "metadata": {},
   "outputs": [],
   "source": [
    "sgd = SGD(lr=1, decay=1e-7, momentum=0.9, nesterov=True)\n",
    "model.compile(loss='categorical_crossentropy', optimizer='adam', metrics=['accuracy'])"
   ]
  },
  {
   "cell_type": "code",
   "execution_count": 83,
   "metadata": {},
   "outputs": [
    {
     "name": "stdout",
     "output_type": "stream",
     "text": [
      "Train on 40000 samples, validate on 5000 samples\n",
      "Epoch 1/15\n",
      "40000/40000 [==============================] - 81s 2ms/step - loss: 1.9413 - acc: 0.6119 - val_loss: 0.7049 - val_acc: 0.7896\n",
      "Epoch 2/15\n",
      "40000/40000 [==============================] - 77s 2ms/step - loss: 0.7982 - acc: 0.7581 - val_loss: 0.6226 - val_acc: 0.8128\n",
      "Epoch 3/15\n",
      "40000/40000 [==============================] - 79s 2ms/step - loss: 0.6927 - acc: 0.7909 - val_loss: 0.5901 - val_acc: 0.8316\n",
      "Epoch 4/15\n",
      "40000/40000 [==============================] - 92s 2ms/step - loss: 0.6385 - acc: 0.8095 - val_loss: 0.5724 - val_acc: 0.8400\n",
      "Epoch 5/15\n",
      "40000/40000 [==============================] - 83s 2ms/step - loss: 0.6037 - acc: 0.8184 - val_loss: 0.5833 - val_acc: 0.8378\n",
      "Epoch 6/15\n",
      "40000/40000 [==============================] - 90s 2ms/step - loss: 0.5892 - acc: 0.8245 - val_loss: 0.5609 - val_acc: 0.8386\n",
      "Epoch 7/15\n",
      "40000/40000 [==============================] - 86s 2ms/step - loss: 0.5704 - acc: 0.8277 - val_loss: 0.5421 - val_acc: 0.8478\n",
      "Epoch 8/15\n",
      "40000/40000 [==============================] - 76s 2ms/step - loss: 0.5585 - acc: 0.8312 - val_loss: 0.5360 - val_acc: 0.8492\n",
      "Epoch 9/15\n",
      "40000/40000 [==============================] - 87s 2ms/step - loss: 0.5381 - acc: 0.8382 - val_loss: 0.5413 - val_acc: 0.8370\n",
      "Epoch 10/15\n",
      "40000/40000 [==============================] - 75s 2ms/step - loss: 0.5301 - acc: 0.8400 - val_loss: 0.5283 - val_acc: 0.8462\n",
      "Epoch 11/15\n",
      "40000/40000 [==============================] - 70s 2ms/step - loss: 0.5241 - acc: 0.8427 - val_loss: 0.5355 - val_acc: 0.8496\n",
      "Epoch 12/15\n",
      "40000/40000 [==============================] - 71s 2ms/step - loss: 0.5179 - acc: 0.8413 - val_loss: 0.5327 - val_acc: 0.8590\n",
      "Epoch 13/15\n",
      "40000/40000 [==============================] - 70s 2ms/step - loss: 0.5092 - acc: 0.8460 - val_loss: 0.5345 - val_acc: 0.8496\n",
      "Epoch 14/15\n",
      "40000/40000 [==============================] - 77s 2ms/step - loss: 0.5062 - acc: 0.8466 - val_loss: 0.5361 - val_acc: 0.8584\n",
      "Epoch 15/15\n",
      "40000/40000 [==============================] - 75s 2ms/step - loss: 0.5050 - acc: 0.8470 - val_loss: 0.5490 - val_acc: 0.8542\n"
     ]
    },
    {
     "data": {
      "text/plain": [
       "<keras.callbacks.History at 0x1824d6cd68>"
      ]
     },
     "execution_count": 83,
     "metadata": {},
     "output_type": "execute_result"
    }
   ],
   "source": [
    "model.fit(x[:40000], y[:40000], batch_size=32, epochs=15, validation_data=(x[40000:45000], y[40000:45000]))"
   ]
  },
  {
   "cell_type": "code",
   "execution_count": 74,
   "metadata": {},
   "outputs": [
    {
     "ename": "NameError",
     "evalue": "name 'full_x' is not defined",
     "output_type": "error",
     "traceback": [
      "\u001b[0;31m---------------------------------------------------------------------------\u001b[0m",
      "\u001b[0;31mNameError\u001b[0m                                 Traceback (most recent call last)",
      "\u001b[0;32m<ipython-input-74-88c8edb04a0d>\u001b[0m in \u001b[0;36m<module>\u001b[0;34m()\u001b[0m\n\u001b[1;32m     13\u001b[0m \u001b[0mchannel\u001b[0m \u001b[0;36m2\u001b[0m\u001b[0;34m:\u001b[0m \u001b[0mwhole\u001b[0m \u001b[0mimage\u001b[0m\u001b[0;34m\u001b[0m\u001b[0m\n\u001b[1;32m     14\u001b[0m \"\"\"\n\u001b[0;32m---> 15\u001b[0;31m \u001b[0mmodel\u001b[0m\u001b[0;34m.\u001b[0m\u001b[0mfit\u001b[0m\u001b[0;34m(\u001b[0m\u001b[0mfull_x\u001b[0m\u001b[0;34m[\u001b[0m\u001b[0;34m:\u001b[0m\u001b[0;36m40000\u001b[0m\u001b[0;34m]\u001b[0m\u001b[0;34m,\u001b[0m \u001b[0my\u001b[0m\u001b[0;34m[\u001b[0m\u001b[0;34m:\u001b[0m\u001b[0;36m40000\u001b[0m\u001b[0;34m]\u001b[0m\u001b[0;34m,\u001b[0m \u001b[0mbatch_size\u001b[0m\u001b[0;34m=\u001b[0m\u001b[0;36m32\u001b[0m\u001b[0;34m,\u001b[0m \u001b[0mepochs\u001b[0m\u001b[0;34m=\u001b[0m\u001b[0;36m10\u001b[0m\u001b[0;34m,\u001b[0m \u001b[0mvalidation_data\u001b[0m\u001b[0;34m=\u001b[0m\u001b[0;34m(\u001b[0m\u001b[0mfull_x\u001b[0m\u001b[0;34m[\u001b[0m\u001b[0;36m40000\u001b[0m\u001b[0;34m:\u001b[0m\u001b[0;36m45000\u001b[0m\u001b[0;34m]\u001b[0m\u001b[0;34m,\u001b[0m \u001b[0my\u001b[0m\u001b[0;34m[\u001b[0m\u001b[0;36m40000\u001b[0m\u001b[0;34m:\u001b[0m\u001b[0;36m45000\u001b[0m\u001b[0;34m]\u001b[0m\u001b[0;34m)\u001b[0m\u001b[0;34m)\u001b[0m\u001b[0;34m\u001b[0m\u001b[0m\n\u001b[0m",
      "\u001b[0;31mNameError\u001b[0m: name 'full_x' is not defined"
     ]
    }
   ],
   "source": [
    "\"\"\"\n",
    "Architecture:\n",
    "model.add(Conv2D(32, (3,3), activation='relu', data_format='channels_last', input_shape=(64,64,1)))\n",
    "model.add(MaxPooling2D(pool_size=(2,2), strides=(2,2)))\n",
    "model.add(Conv2D(32, (3,3), activation='relu'))\n",
    "model.add(MaxPooling2D(pool_size=(2,2), strides=(2,2)))\n",
    "model.add(Dropout(0.25))\n",
    "model.add(Flatten())\n",
    "model.add(Dense(units=10, activation='softmax'))\n",
    "\n",
    "2 channels:\n",
    "channel 1: biggest digit\n",
    "channel 2: whole image\n",
    "\"\"\"\n",
    "model.fit(full_x[:40000], y[:40000], batch_size=32, epochs=10, validation_data=(full_x[40000:45000], y[40000:45000]))"
   ]
  },
  {
   "cell_type": "code",
   "execution_count": null,
   "metadata": {},
   "outputs": [],
   "source": [
    "\"\"\"\n",
    "model.add(Conv2D(32, (3,3), activation='relu', data_format='channels_last', input_shape=(64,64,1)))\n",
    "model.add(MaxPooling2D(pool_size=(2,2), strides=(2,2)))\n",
    "model.add(Conv2D(32, (3,3), activation='relu'))\n",
    "model.add(MaxPooling2D(pool_size=(2,2), strides=(2,2)))\n",
    "model.add(Dropout(0.25))\n",
    "model.add(Flatten())\n",
    "model.add(Dense(units=10, activation='softmax'))\n",
    "\"\"\"\n",
    "model.fit(x[:35000], y[:35000], batch_size=32, epochs=10, validation_data=(x[35000:45000], y[35000:45000]))"
   ]
  },
  {
   "cell_type": "code",
   "execution_count": null,
   "metadata": {},
   "outputs": [],
   "source": [
    "\"\"\"\n",
    "Architecture:\n",
    "model.add(Conv2D(32, (5,5), activation='relu', data_format='channels_last', input_shape=(64,64,1)))\n",
    "model.add(MaxPooling2D(pool_size=(2,2), strides=1))\n",
    "model.add(Conv2D(64, (3,3), activation='relu'))\n",
    "model.add(MaxPooling2D(pool_size=(2,2), strides=1))\n",
    "model.add(Flatten())\n",
    "model.add(Dropout(0.5))\n",
    "model.add(Dense(units=10, activation='softmax'))\n",
    "\"\"\"\n",
    "model.fit(train, y[:35000], batch_size=32, epochs=10, validation_data=(valid, y[35000:45000]))"
   ]
  },
  {
   "cell_type": "code",
   "execution_count": null,
   "metadata": {},
   "outputs": [],
   "source": [
    "\"\"\"\n",
    "Architecture:\n",
    "model.add(Conv2D(32, (3,3), activation='relu', data_format='channels_last', input_shape=(64,64,1)))\n",
    "model.add(MaxPooling2D(pool_size=(2,2), strides=(2,2)))\n",
    "model.add(Conv2D(32, (3,3), activation='relu'))\n",
    "model.add(MaxPooling2D(pool_size=(2,2), strides=(2,2)))\n",
    "model.add(Dropout(0.25))\n",
    "model.add(Flatten())\n",
    "model.add(Dense(units=10, activation='softmax'))\n",
    "\n",
    "Data: raw\n",
    "\"\"\"\n",
    "model.fit(x[:35000], y[:35000], batch_size=32, epochs=10, validation_data=(x[35000:45000], y[35000:45000]))"
   ]
  },
  {
   "cell_type": "code",
   "execution_count": null,
   "metadata": {},
   "outputs": [],
   "source": [
    "\"\"\"\n",
    "Architecture: \n",
    "model.add(Conv2D(32, (3,3), activation='relu', data_format='channels_last', input_shape=(64,64,1)))\n",
    "model.add(MaxPooling2D(pool_size=(2,2), strides=(2,2)))\n",
    "model.add(Conv2D(32, (3,3), activation='relu'))\n",
    "model.add(MaxPooling2D(pool_size=(2,2), strides=(2,2)))\n",
    "model.add(Dropout(0.25))\n",
    "model.add(Flatten())\n",
    "model.add(Dense(units=10, activation='softmax'))\n",
    "\n",
    "Data: 1/0 data\n",
    "\"\"\"\n",
    "model.fit(train, y[:35000], batch_size=32, epochs=10, validation_data=(valid, y[35000:45000]))"
   ]
  },
  {
   "cell_type": "code",
   "execution_count": null,
   "metadata": {},
   "outputs": [],
   "source": [
    "model.fit(train, y[:35000], batch_size=32, epochs=10, validation_data=(valid, y[35000:45000]))"
   ]
  },
  {
   "cell_type": "code",
   "execution_count": 75,
   "metadata": {},
   "outputs": [],
   "source": [
    "model.save('cnn3.h5')"
   ]
  }
 ],
 "metadata": {
  "kernelspec": {
   "display_name": "Python 3",
   "language": "python",
   "name": "python3"
  },
  "language_info": {
   "codemirror_mode": {
    "name": "ipython",
    "version": 3
   },
   "file_extension": ".py",
   "mimetype": "text/x-python",
   "name": "python",
   "nbconvert_exporter": "python",
   "pygments_lexer": "ipython3",
   "version": "3.6.4"
  }
 },
 "nbformat": 4,
 "nbformat_minor": 2
}
